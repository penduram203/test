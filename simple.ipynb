{
  "cells": [
    {
      "cell_type": "code",
      "source": [
        "#@markdown #####最初に<font color = \"red\">ランタイムのタイプを変更</font>し、T4 GPUに設定し、保存しておく\n",
        "#@markdown ![Image in a code cell]( https://i.imgur.com/flJeZ1e.png)"
      ],
      "metadata": {
        "cellView": "form",
        "id": "EKsun4Bspm8G"
      },
      "execution_count": 10,
      "outputs": []
    },
    {
      "cell_type": "code",
      "source": [
        "#@title ① diffusers と model の準備\n",
        "#@markdown #####**<font size = 5, font color = \"red\">←の再生ボタンで実行</font>**（処理に数分掛かる）\n",
        "!pip install diffusers transformers accelerate safetensors compel wget peft\n",
        "\n",
        "import torch\n",
        "from diffusers import (StableDiffusionXLPipeline, EulerAncestralDiscreteScheduler, AutoencoderKL)\n",
        "from compel import Compel, ReturnedEmbeddingsType\n",
        "from PIL import Image\n",
        "\n",
        "image_num_count = 0\n",
        "vae = AutoencoderKL.from_pretrained(\"madebyollin/sdxl-vae-fp16-fix\", torch_dtype=torch.float16)\n",
        "pipe = StableDiffusionXLPipeline.from_pretrained(\"cagliostrolab/animagine-xl-3.1\", vae=vae, torch_dtype=torch.float16, use_safetensors=True, ).to(\"cuda\")\n",
        "\n",
        "base_compel = Compel(tokenizer=[pipe.tokenizer, pipe.tokenizer_2], text_encoder=[pipe.text_encoder, pipe.text_encoder_2],\n",
        " returned_embeddings_type=ReturnedEmbeddingsType.PENULTIMATE_HIDDEN_STATES_NON_NORMALIZED, requires_pooled=[False, True])"
      ],
      "metadata": {
        "cellView": "form",
        "id": "nmjHRrsG-78H"
      },
      "execution_count": null,
      "outputs": []
    },
    {
      "cell_type": "code",
      "source": [
        "#@title ② 生成\n",
        "#@markdown #####**<font size = 5, font color = \"red\">←の再生ボタンで繰り返し実行</font>**出来る\n",
        "#@markdown #####ㅤ\n",
        "#@markdown #####プロンプト入力（＋と−で強度調整）\n",
        "prompt = \"1girl, (cute costume)++, school+, night--\" # @param {type:\"string\"}\n",
        "negative_prompt = \"lowres, bad anatomy, bad hands, text, error, missing fingers, extra digit, fewer digits, cropped, worst quality, low quality, normal quality, jpeg artifacts, signature, watermark, username, blurry, artist name \" # @param {type:\"string\"}\n",
        "conditioning, pooled = base_compel(prompt)\n",
        "negative_conditioning, negatice_pooled = base_compel(negative_prompt)\n",
        "#@markdown #####サイズ調整\n",
        "size_selection = \"832_1216\" #@param [\"640_1536\", \"768_1344\", \"832_1216\",\"896_1152\",\"1024_1024\",\"1152_896\",\"1216_832\",\"1344_768\",\"1536_640\"]\n",
        "if size_selection == \"640_1536\":\n",
        "  width = 640;  height = 1536\n",
        "if size_selection == \"768_1344\":\n",
        "  width = 768;  height = 1344\n",
        "if size_selection == \"832_1216\":\n",
        "  width = 832;  height = 1216\n",
        "if size_selection == \"896_1152\":\n",
        "  width = 896;  height = 1152\n",
        "if size_selection == \"1024_1024\":\n",
        "  width = 1024;  height = 1024\n",
        "if size_selection == \"1152_896\":\n",
        "  width = 1152;  height = 896\n",
        "if size_selection == \"1216_832\":\n",
        "  width = 1216;  height = 832\n",
        "if size_selection == \"1344_768\":\n",
        "  width = 1344;  height = 768\n",
        "if size_selection == \"1536_640\":\n",
        "  width = 1536;  height = 640\n",
        "#@markdown #####生成枚数\n",
        "num = \"2\" #@param[1,2,3,4,6,9,16,25]\n",
        "scale = 7\n",
        "steps = 20\n",
        "pipe.scheduler = EulerAncestralDiscreteScheduler.from_config(pipe.scheduler.config)\n",
        "\n",
        "img_num=int(num)\n",
        "rowsx = 0\n",
        "colsy = 0\n",
        "if num == \"1\":\n",
        "  rowsx = 1; colsy = 1\n",
        "if num == \"2\":\n",
        "  rowsx = 1; colsy = 2\n",
        "if num == \"3\":\n",
        "  rowsx = 1; colsy = 3\n",
        "if num == \"4\":\n",
        "  rowsx = 2; colsy = 2\n",
        "if num == \"6\":\n",
        "  rowsx = 2; colsy = 3\n",
        "if num == \"9\":\n",
        "  rowsx = 3; colsy = 3\n",
        "if num == \"16\":\n",
        "  rowsx = 4; colsy = 4\n",
        "if num == \"25\":\n",
        "  rowsx = 5; colsy = 5\n",
        "images=[]\n",
        "for num in range(img_num):\n",
        "  image_num_count+=1\n",
        "  image = pipe(prompt_embeds=conditioning, pooled_prompt_embeds=pooled, negative_prompt_embeds=negative_conditioning, negative_pooled_prompt_embeds=negatice_pooled, width=int(width), height=int(height), guidance_scale=scale, num_inference_steps=steps).images[0]\n",
        "  image.save(\"/content/output_\"+'{0:04d}'.format(image_num_count)+\".png\")\n",
        "  images.append(image)\n",
        "\n",
        "def image_grid(imgs, rows, cols, resize=512):\n",
        "    assert len(imgs) == rows * cols\n",
        "    # resize image\n",
        "    if resize is not None:\n",
        "        imgs = [img.resize((resize, resize)) for img in imgs]\n",
        "    # Get dimensions of the first image\n",
        "    w, h = imgs[0].size\n",
        "    # Calculate dimensions of the grid\n",
        "    grid_w, grid_h = cols * w, rows * h\n",
        "    # Create a new RGB image for the grid\n",
        "    grid = Image.new(\"RGB\", size=(grid_w, grid_h))\n",
        "    # Paste images onto the grid\n",
        "    for i, img in enumerate(imgs):\n",
        "        x = i % cols * w\n",
        "        y = i // cols * h\n",
        "        grid.paste(img, box=(x, y))\n",
        "    return grid\n",
        "\n",
        "print(\"saiving...\"+\"output_\"+'{0:04d}'.format(int(image_num_count-int(num)))+\"~\"+\"output_\"+'{0:04d}'.format(int(image_num_count))+\".png\")\n",
        "image_grid(images, rowsx, colsy)"
      ],
      "metadata": {
        "cellView": "form",
        "id": "BqXw3vwg-2qa"
      },
      "execution_count": null,
      "outputs": []
    },
    {
      "cell_type": "code",
      "source": [
        "#@markdown #####<font color = \"red\">画面左端のフォルダアイコンをクリック</font>すると生成された画像リストが表示される\n",
        "#@markdown #####画像は右クリックから保存したり、ダブルクリックで表示したり出来る\n",
        "#@markdown ![Image in a code cell]( https://i.imgur.com/4DEHOUm.png)\n"
      ],
      "metadata": {
        "cellView": "form",
        "id": "5CGFIpDDsSqs"
      },
      "execution_count": 9,
      "outputs": []
    },
    {
      "cell_type": "code",
      "source": [
        "#@markdown ###ここから先はLoraを使いたい場合のみ実行する\n",
        "#@markdown ###手軽に遊びたいだけなら不要なプロセス\n",
        "#@markdown ###↓↓↓↓\n",
        "#@markdown ###③ google ドライブ のアカウントを取得した後で、「ドライブにコピー」する\n",
        "#@markdown ![Image in a code cell]( https://i.imgur.com/cymZGkG.png)\n",
        "#@markdown #####ㅤ\n",
        "#@markdown ###ㅤ自分の google ドライブにコピーが作成され、自由に編集可能になる\n",
        "#@markdown #####ㅤ\n",
        "#@markdown ![Image in a code cell]( https://i.imgur.com/cHlnLW0.png)"
      ],
      "metadata": {
        "id": "B7iqAHLGl68O",
        "cellView": "form"
      },
      "execution_count": 11,
      "outputs": []
    },
    {
      "cell_type": "code",
      "source": [
        "#@title ④ API Key の取得\n",
        "#@markdown #####① civitaiアカウントを取得する\n",
        "#@markdown #####② https://civitai.com/user/account にアクセスして、一番下にスクロールさせ、**<font size = 4, font color = \"dodgerblue\">Add API key</font>** をクリック\n",
        "#@markdown #####③ Create API Key 画面に進むので、適当な名前を入力して save すると API Key が表示される\n",
        "api_key = \"表示された API key をここにコピペ\" # @param {type:\"string\"}\n",
        "#@markdown #####④ **<font size = 5, font color = \"red\">↖の再生ボタンで実行</font>**　↑に入力した API Key は繰り返し同じものを使用出来る\n",
        "api_key = \"5b1eddecf976934ea69e129e9c83dc8b\""
      ],
      "metadata": {
        "cellView": "form",
        "id": "pSFOBojb4_Ra"
      },
      "execution_count": null,
      "outputs": []
    },
    {
      "cell_type": "code",
      "source": [
        "#@title ⑤ Lora ダウンロード\n",
        "#@markdown #####https://civitai.com/ で欲しいLoraを見つけてダウンロードリンクを右クリック、**”リンクのアドレスをコピー”**する\n",
        "#@markdown #####（①でAnimagineXLをmodelとして使用しているので、SDXL1.0に対応したLoraでないと動作しないので注意）\n",
        "#@markdown #####ㅤ\n",
        "#@markdown #####例えばコビーしたリンクのアドレスが↓のようなら\n",
        "#@markdown #####https://civitai.com/api/download/models/347371?type=Model&format=SafeTensor\n",
        "#@markdown #####↓の使用例アドレスの中の<font color = \"red\">ファイル名</font>を適当な名前に、<font color = \"red\">数字部分を347371に</font>書き換える\n",
        "#@markdown #####!wget -O <font color = \"red\">ファイル名</font>.safetensors https://civitai.com/api/download/models/<font color = \"red\">数字部分</font>?token={api_key}\n"
      ],
      "metadata": {
        "cellView": "form",
        "id": "NjTZ01nexFEq"
      },
      "execution_count": 3,
      "outputs": []
    },
    {
      "cell_type": "code",
      "source": [
        "# ←再生ボタンで実行するとLoraファイルが一括ダウンロードされる\n",
        "\n",
        "# 使用例アドレス（書き換えて使用する）\n",
        "!wget -O feet_anime.safetensors https://civitai.com/api/download/models/346349?token={api_key}\n",
        "#https://civitai.com/models/308615/feetanimexl\n",
        "\n",
        "!wget -O giantess_xl.safetensors https://civitai.com/api/download/models/224194?token={api_key}\n",
        "#https://civitai.com/models/199258/giantess-xl\n",
        "\n",
        "\n",
        "# ダウンロードしない Lora は先頭に \"#\" を入力してスキップ\n",
        "#!wget -O Illyas-viel2.safetensors https://civitai.com/api/download/models/347371?token={api_key}\n",
        "#https://civitai.com/models/309396?modelVersionId=347371\n",
        "\n",
        "#!wget -O miyu-edel2.safetensors https://civitai.com/api/download/models/347431?token={api_key}\n",
        "#https://civitai.com/models/309561/miyu-edelfeltbeast-style\n",
        "\n",
        "#!wget -O chloe-von2.safetensors https://civitai.com/api/download/models/347405?token={api_key}\n",
        "#https://civitai.com/models/309537/chloe-von-einzbernbeast-style"
      ],
      "metadata": {
        "id": "yBGgYfbc-upL"
      },
      "execution_count": null,
      "outputs": []
    },
    {
      "cell_type": "code",
      "execution_count": null,
      "metadata": {
        "id": "yO4kdGjYY2Bt"
      },
      "outputs": [],
      "source": [
        "#@title ⑥ Lora強度調整\n",
        "# ←再生ボタンで実行\n",
        "pipe.unfuse_lora()\n",
        "pipe.unload_lora_weights()\n",
        "\n",
        "# ⑤でダウンロードしたLoraから使用したいものを選び、↓に「ファイル名.safetensors」 を入力\n",
        "pipe.load_lora_weights(\".\", weight_name=\"feet_anime.safetensors\");\n",
        "# lora_scaleの値を自由に↓書き換えて強度調整\n",
        "pipe.fuse_lora(lora_scale=0.7)\n",
        "\n",
        "# 複数のLoraを同時に使用する事も出来る\n",
        "pipe.load_lora_weights(\".\", weight_name=\"giantess_xl.safetensors\");\n",
        "pipe.fuse_lora(lora_scale=0.4)"
      ]
    },
    {
      "cell_type": "code",
      "source": [
        "pipe.unfuse_lora()\n",
        "pipe.unload_lora_weights()\n",
        "\n",
        "# Loraを何も使用せず、リセットしたい場合は 先頭に\"#\" を入力してスキップ\n",
        "#pipe.load_lora_weights(\".\", weight_name=\"feet_anime.safetensors\");\n",
        "#pipe.fuse_lora(lora_scale=0.7)\n",
        "#pipe.load_lora_weights(\".\", weight_name=\"giantess_xl.safetensors\");\n",
        "#pipe.fuse_lora(lora_scale=0.4)"
      ],
      "metadata": {
        "id": "Li7UMTVq78p3"
      },
      "execution_count": null,
      "outputs": []
    },
    {
      "cell_type": "code",
      "source": [
        "#@title Loraの準備が整ったら②に戻って生成実行、Loraが反映された画像が生成される"
      ],
      "metadata": {
        "cellView": "form",
        "id": "W55sG61v88PD"
      },
      "execution_count": null,
      "outputs": []
    }
  ],
  "metadata": {
    "colab": {
      "provenance": []
    },
    "kernelspec": {
      "display_name": "Python 3",
      "name": "python3"
    },
    "language_info": {
      "name": "python"
    }
  },
  "nbformat": 4,
  "nbformat_minor": 0
}